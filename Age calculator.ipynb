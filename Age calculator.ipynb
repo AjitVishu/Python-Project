{
 "cells": [
  {
   "cell_type": "code",
   "execution_count": 1,
   "id": "23b373c3",
   "metadata": {},
   "outputs": [
    {
     "name": "stdout",
     "output_type": "stream",
     "text": [
      "<<<<<<< AGE CALCULATOR >>>>>>\n",
      "enter your birth year - 2000\n",
      "enter current year - 2023\n",
      "YOUR CURRENT AGE IS \n",
      "23\n"
     ]
    }
   ],
   "source": [
    "print(\"<<<<<<< AGE CALCULATOR >>>>>>\")\n",
    "YOUR_BIRTH_YEAR = input(\"enter your birth year - \")\n",
    "CURRENT_YEAR = input(\"enter current year - \")\n",
    "YOUR_CURRENT_AGE = int(YOUR_BIRTH_YEAR) - int(CURRENT_YEAR)\n",
    "print(\"YOUR CURRENT AGE IS \")\n",
    "print (abs(YOUR_CURRENT_AGE))"
   ]
  },
  {
   "cell_type": "code",
   "execution_count": null,
   "id": "f4a8f0eb",
   "metadata": {},
   "outputs": [],
   "source": []
  }
 ],
 "metadata": {
  "kernelspec": {
   "display_name": "Python 3 (ipykernel)",
   "language": "python",
   "name": "python3"
  },
  "language_info": {
   "codemirror_mode": {
    "name": "ipython",
    "version": 3
   },
   "file_extension": ".py",
   "mimetype": "text/x-python",
   "name": "python",
   "nbconvert_exporter": "python",
   "pygments_lexer": "ipython3",
   "version": "3.10.9"
  }
 },
 "nbformat": 4,
 "nbformat_minor": 5
}
